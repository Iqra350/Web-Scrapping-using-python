{
  "nbformat": 4,
  "nbformat_minor": 0,
  "metadata": {
    "colab": {
      "name": "TwitterDataScrapping.ipynb",
      "provenance": []
    },
    "kernelspec": {
      "name": "python3",
      "display_name": "Python 3"
    },
    "language_info": {
      "name": "python"
    }
  },
  "cells": [
    {
      "cell_type": "markdown",
      "source": [
        "######copywrite https://colab.research.google.com/github/hannesdatta/course-odcm/blob/master/content/docs/tutorials/webscrapingadvanced/webscraping-advanced.ipynb#scrollTo=tEI85yM7eaay"
      ],
      "metadata": {
        "id": "RDK5s3gT7ZZM"
      }
    },
    {
      "cell_type": "code",
      "source": [
        "!pip install selenium\n",
        "!apt-get update \n",
        "!apt install chromium-chromedriver"
      ],
      "metadata": {
        "id": "XTYcyAIDga2Q"
      },
      "execution_count": null,
      "outputs": []
    },
    {
      "cell_type": "code",
      "source": [
        ""
      ],
      "metadata": {
        "id": "nB0uPIDi7Yys"
      },
      "execution_count": null,
      "outputs": []
    },
    {
      "cell_type": "code",
      "source": [
        "#Running this notebook on Google Colab? Then run this cell! Otherwise, please use the cell above!\n",
        "from selenium import webdriver\n",
        "chrome_options = webdriver.ChromeOptions()\n",
        "chrome_options.add_argument('--headless')\n",
        "chrome_options.add_argument('--no-sandbox')\n",
        "chrome_options.add_argument('--disable-dev-shm-usage')\n",
        "driver = webdriver.Chrome('chromedriver',chrome_options=chrome_options)\n"
      ],
      "metadata": {
        "colab": {
          "base_uri": "https://localhost:8080/"
        },
        "id": "4xKWZo-Qg8Ty",
        "outputId": "19b9aaa9-0519-4048-f397-d1ce86a06441"
      },
      "execution_count": null,
      "outputs": [
        {
          "output_type": "stream",
          "name": "stderr",
          "text": [
            "/usr/local/lib/python3.7/dist-packages/ipykernel_launcher.py:7: DeprecationWarning: use options instead of chrome_options\n",
            "  import sys\n"
          ]
        }
      ]
    },
    {
      "cell_type": "code",
      "source": [
        "driver.get('https://twitter.com/noorsyen')"
      ],
      "metadata": {
        "id": "ZNW_gaKkk7no"
      },
      "execution_count": null,
      "outputs": []
    },
    {
      "cell_type": "code",
      "execution_count": null,
      "metadata": {
        "id": "f8MjGjjeczbm"
      },
      "outputs": [],
      "source": [
        "from bs4 import BeautifulSoup\n",
        "res = driver.page_source.encode('utf-8')\n",
        "soup = BeautifulSoup(res, 'html.parser')"
      ]
    },
    {
      "cell_type": "code",
      "source": [
        "soup.find(attrs={'data-testid': 'UserDescription'}).text\n"
      ],
      "metadata": {
        "id": "9KR1sE4ssqmy",
        "colab": {
          "base_uri": "https://localhost:8080/",
          "height": 35
        },
        "outputId": "7f296adb-ce21-4d9c-a218-33ba9217f4fd"
      },
      "execution_count": null,
      "outputs": [
        {
          "output_type": "execute_result",
          "data": {
            "text/plain": [
              "'You only live once, but if you do it right, once is enough'"
            ],
            "application/vnd.google.colaboratory.intrinsic+json": {
              "type": "string"
            }
          },
          "metadata": {},
          "execution_count": 28
        }
      ]
    },
    {
      "cell_type": "code",
      "source": [
        "followers = soup.find(attrs={'href': '/noorsyen/followers'}).find_all('span')[1].text\n",
        "print(followers)\n",
        "user_location = soup.find(attrs={'data-testid': 'UserLocation'}).find_all('span')[1].text\n",
        "print(user_location)\n",
        "user_join_date = soup.find(attrs={'data-testid': 'UserJoinDate'}).find_all('span')[0].text\n",
        "print(user_join_date)"
      ],
      "metadata": {
        "id": "95Q_nqfwXAjk",
        "colab": {
          "base_uri": "https://localhost:8080/"
        },
        "outputId": "266c7bfd-5939-4ed4-8701-52c8687ee9d8"
      },
      "execution_count": null,
      "outputs": [
        {
          "output_type": "stream",
          "name": "stdout",
          "text": [
            "19\n",
            "Islamabad, Pakistan\n",
            "Joined August 2013\n"
          ]
        }
      ]
    },
    {
      "cell_type": "code",
      "source": [
        ""
      ],
      "metadata": {
        "id": "6Go3P5gjP14R"
      },
      "execution_count": null,
      "outputs": []
    }
  ]
}