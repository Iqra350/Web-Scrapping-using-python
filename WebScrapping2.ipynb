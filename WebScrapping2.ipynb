{
  "cells": [
    {
      "cell_type": "code",
      "execution_count": null,
      "metadata": {
        "id": "ii2ub7V9hsnd"
      },
      "outputs": [],
      "source": [
        "import requests \n",
        "from bs4 import BeautifulSoup\n",
        "url = 'https://codewithharry.com'"
      ]
    },
    {
      "cell_type": "code",
      "execution_count": null,
      "metadata": {
        "id": "UWStFn5djMBb"
      },
      "outputs": [],
      "source": [
        "req = requests.get(url)\n",
        "soup = BeautifulSoup(req.content, 'html.parser')"
      ]
    },
    {
      "cell_type": "code",
      "execution_count": null,
      "metadata": {
        "colab": {
          "base_uri": "https://localhost:8080/"
        },
        "id": "LyZcljeXkGr8",
        "outputId": "7d2d6edb-d2a3-45b6-9fb2-15033bc0e3fb"
      },
      "outputs": [
        {
          "output_type": "stream",
          "name": "stdout",
          "text": [
            "Home | CodeWithHarry\n"
          ]
        }
      ],
      "source": [
        "title = soup.title\n",
        "print(title.get_text())"
      ]
    },
    {
      "cell_type": "code",
      "source": [
        "#commonly used object\n",
        "\n"
      ],
      "metadata": {
        "id": "zMDcy6KwpBY5"
      },
      "execution_count": null,
      "outputs": []
    }
  ],
  "metadata": {
    "colab": {
      "name": "WebScrapping2.ipynb",
      "provenance": [],
      "collapsed_sections": []
    },
    "kernelspec": {
      "display_name": "Python 3",
      "name": "python3"
    },
    "language_info": {
      "name": "python"
    }
  },
  "nbformat": 4,
  "nbformat_minor": 0
}